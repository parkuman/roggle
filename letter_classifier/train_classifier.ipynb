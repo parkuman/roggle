{
 "cells": [
  {
   "cell_type": "markdown",
   "metadata": {},
   "source": [
    "# Model Training\n",
    "Train the model from the /train folder. Gets class types through the names of folders each image is in. Then saves the model to the project directory."
   ]
  },
  {
   "cell_type": "code",
   "execution_count": null,
   "metadata": {},
   "outputs": [],
   "source": [
    "import numpy as np\n",
    "import tensorflow as tf\n",
    "import cv2\n",
    "\n",
    "from tensorflow.keras import layers\n",
    "from tensorflow.keras.models import Sequential\n",
    "from tensorflow.keras.callbacks import ModelCheckpoint,ReduceLROnPlateau,EarlyStopping\n",
    "from keras_visualizer import visualizer "
   ]
  },
  {
   "cell_type": "code",
   "execution_count": null,
   "metadata": {},
   "outputs": [],
   "source": [
    "import pathlib\n",
    "\n",
    "DATA_DIR = pathlib.Path(\"./train\")\n",
    "IMAGE_COUNT = len(list(DATA_DIR.glob('*/*.jpg')))\n",
    "print(IMAGE_COUNT)"
   ]
  },
  {
   "cell_type": "code",
   "execution_count": null,
   "metadata": {},
   "outputs": [],
   "source": [
    "BATCH_SIZE = 64\n",
    "IMG_HEIGHT = 48\n",
    "IMG_WIDTH = 48\n",
    "\n",
    "INPUT_SHAPE = (IMG_WIDTH, IMG_HEIGHT, 1)\n",
    "\n",
    "train_ds = tf.keras.utils.image_dataset_from_directory(\n",
    "  DATA_DIR,\n",
    "  validation_split=0.2,\n",
    "  subset=\"training\",\n",
    "  seed=123,\n",
    "  image_size=(IMG_HEIGHT, IMG_WIDTH),\n",
    "  batch_size=BATCH_SIZE,\n",
    "  color_mode=\"grayscale\")\n",
    "\n",
    "val_ds = tf.keras.utils.image_dataset_from_directory(\n",
    "  DATA_DIR,\n",
    "  validation_split=0.2,\n",
    "  subset=\"validation\",\n",
    "  seed=123,\n",
    "  image_size=(IMG_HEIGHT, IMG_WIDTH),\n",
    "  batch_size=BATCH_SIZE,\n",
    "  color_mode=\"grayscale\")\n",
    "\n",
    "CLASS_NAMES = train_ds.class_names\n",
    "NUM_CLASSES = len(CLASS_NAMES)\n",
    "\n",
    "print(CLASS_NAMES)"
   ]
  },
  {
   "cell_type": "markdown",
   "metadata": {},
   "source": [
    "### Example Data Image + Labels"
   ]
  },
  {
   "cell_type": "code",
   "execution_count": null,
   "metadata": {},
   "outputs": [],
   "source": [
    "import matplotlib.pyplot as plt\n",
    "\n",
    "plt.figure(figsize=(10, 10))\n",
    "for images, labels in train_ds.take(1):\n",
    "  for i in range(9):\n",
    "    ax = plt.subplot(3, 3, i + 1)\n",
    "    plt.imshow(images[i].numpy().astype(\"uint8\"), cmap=\"gray\")\n",
    "    plt.title(CLASS_NAMES[labels[i]])\n",
    "    plt.axis(\"off\")"
   ]
  },
  {
   "cell_type": "markdown",
   "metadata": {},
   "source": [
    "### Model Creation"
   ]
  },
  {
   "cell_type": "code",
   "execution_count": null,
   "metadata": {},
   "outputs": [],
   "source": [
    "train_ds = train_ds.cache().shuffle(1000).prefetch(buffer_size=tf.data.AUTOTUNE)\n",
    "val_ds = val_ds.cache().prefetch(buffer_size=tf.data.AUTOTUNE)\n",
    "WEIGHT_DECAY = 0.0008\n",
    "\n",
    "model = Sequential([\n",
    "  # the following three data augmentation layers are not allowed in TFJS\n",
    "  # layers.Resizing(img_height, img_width, input_shape=(img_height, img_width, 3)),\n",
    "  # layers.Rescaling(1./255),\n",
    "  # layers.RandomRotation(0.2),\n",
    "  layers.Conv2D(\n",
    "    32,\n",
    "    kernel_size = (3, 3),\n",
    "    activation = \"relu\",\n",
    "    input_shape = INPUT_SHAPE,\n",
    "    kernel_regularizer=tf.keras.regularizers.L1L2(l1=0, l2=WEIGHT_DECAY),\n",
    "    bias_regularizer=tf.keras.regularizers.L1L2(l1=0, l2=WEIGHT_DECAY)\n",
    "  ),\n",
    "  layers.Conv2D(\n",
    "    64,\n",
    "    (3, 3),\n",
    "    activation = \"relu\",\n",
    "    kernel_regularizer=tf.keras.regularizers.L1L2(l1=0, l2=WEIGHT_DECAY),\n",
    "    bias_regularizer=tf.keras.regularizers.L1L2(l1=0, l2=WEIGHT_DECAY)\n",
    "  ),\n",
    "  layers.Conv2D(\n",
    "    128,\n",
    "    (4, 4), \n",
    "    activation = \"relu\", \n",
    "    kernel_regularizer=tf.keras.regularizers.L1L2(l1=0, l2=WEIGHT_DECAY),\n",
    "    bias_regularizer=tf.keras.regularizers.L1L2(l1=0, l2=WEIGHT_DECAY)\n",
    "  ),\n",
    "  layers.MaxPooling2D(pool_size = (2, 2)),\n",
    "  layers.Dropout(0.5),\n",
    "  layers.Flatten(),\n",
    "  layers.Dense(\n",
    "    128, \n",
    "    activation = 'relu', \n",
    "    kernel_regularizer=tf.keras.regularizers.L1L2(l1=0, l2=WEIGHT_DECAY),\n",
    "    bias_regularizer=tf.keras.regularizers.L1L2(l1=0, l2=WEIGHT_DECAY)\n",
    "  ),\n",
    "  layers.Dropout(0.5),\n",
    "  layers.Dense(NUM_CLASSES, activation = \"softmax\"),\n",
    "])\n",
    "\n",
    "model.compile(\n",
    "    optimizer=\"adam\",\n",
    "    loss=tf.keras.losses.SparseCategoricalCrossentropy(),\n",
    "    metrics=[\"accuracy\"],\n",
    ")\n",
    "\n",
    "model.summary()\n",
    "# visualizer(model, format='png', view=True) # visualize the model as an image"
   ]
  },
  {
   "cell_type": "markdown",
   "metadata": {},
   "source": [
    "### Train"
   ]
  },
  {
   "cell_type": "code",
   "execution_count": null,
   "metadata": {},
   "outputs": [],
   "source": [
    "EPOCHS = 100\n",
    "model_folder = \"./model/\"\n",
    "model_weights_best = model_folder + \"roggle_letter_classifier.weights.best.hdf5\"\n",
    "\n",
    "\n",
    "# Save weights only for best model\n",
    "checkpointer = ModelCheckpoint(filepath = model_weights_best, \n",
    "                               verbose = 2, \n",
    "                               save_best_only = True)\n",
    "\n",
    "# Reduce learning rate when a metric has stopped improving\n",
    "lr_reduction = ReduceLROnPlateau(monitor='val_loss', \n",
    "                                 patience=4, \n",
    "                                 verbose=2, \n",
    "                                 factor=.75)\n",
    "\n",
    "# If score doesn't improve, stop learning\n",
    "estopping = EarlyStopping(monitor='val_loss', \n",
    "                          patience=5, \n",
    "                          verbose=2)\n",
    "\n",
    "history = model.fit(\n",
    "  train_ds,\n",
    "  batch_size = BATCH_SIZE,\n",
    "  verbose = 1,\n",
    "  validation_data=val_ds,\n",
    "  epochs=EPOCHS,\n",
    "  callbacks = [checkpointer, lr_reduction, estopping]\n",
    ")"
   ]
  },
  {
   "cell_type": "code",
   "execution_count": null,
   "metadata": {},
   "outputs": [],
   "source": [
    "# save the final model\n",
    "model_name = \"roggle_letter_classifier\"\n",
    "model_path = model_folder + model_name\n",
    "model.save_weights(model_path)\n",
    "model.save(model_path, save_format='h5')"
   ]
  },
  {
   "cell_type": "code",
   "execution_count": null,
   "metadata": {},
   "outputs": [],
   "source": [
    "acc = history.history['accuracy']\n",
    "val_acc = history.history['val_accuracy']\n",
    "\n",
    "loss = history.history['loss']\n",
    "val_loss = history.history['val_loss']\n",
    "\n",
    "epochs_range = range(estopping.stopped_epoch)\n",
    "\n",
    "plt.figure(figsize=(8, 8))\n",
    "plt.subplot(1, 2, 1)\n",
    "plt.plot(epochs_range, acc, label='Training Accuracy')\n",
    "plt.plot(epochs_range, val_acc, label='Validation Accuracy')\n",
    "plt.legend(loc='lower right')\n",
    "plt.title('Training and Validation Accuracy')\n",
    "\n",
    "plt.subplot(1, 2, 2)\n",
    "plt.plot(epochs_range, loss, label='Training Loss')\n",
    "plt.plot(epochs_range, val_loss, label='Validation Loss')\n",
    "plt.legend(loc='upper right')\n",
    "plt.title('Training and Validation Loss')\n",
    "plt.show()"
   ]
  },
  {
   "cell_type": "markdown",
   "metadata": {},
   "source": [
    "### Inference"
   ]
  },
  {
   "cell_type": "code",
   "execution_count": null,
   "metadata": {},
   "outputs": [],
   "source": [
    "model = tf.keras.models.load_model(model_weights_best)\n",
    "\n",
    "test_images = pathlib.Path(\"./test\").glob('*.jpg')\n",
    "\n",
    "for img_path in test_images:\n",
    "    img_path = str(img_path).replace('\\\\', '/')\n",
    "    print(img_path)\n",
    "    img = tf.keras.utils.load_img(\n",
    "        img_path, \n",
    "        target_size=(IMG_HEIGHT, IMG_HEIGHT), \n",
    "        color_mode=\"grayscale\"\n",
    "    )\n",
    "\n",
    "    img_array = tf.keras.utils.img_to_array(img)\n",
    "    img_array = tf.expand_dims(img_array, 0) # Create a batch\n",
    "\n",
    "    predictions = model.predict(img_array)\n",
    "    score = tf.nn.softmax(predictions[0])\n",
    "\n",
    "\n",
    "    image_to_display = cv2.imread(img_path)\n",
    "    image_to_display = cv2.cvtColor(image_to_display, cv2.COLOR_BGR2RGB)\n",
    "\n",
    "    print()\n",
    "    plt.imshow(image_to_display)\n",
    "    plt.title(\"[{}]:\\n{} - {:.2f}\".format(img_path, CLASS_NAMES[np.argmax(score)],  10 * np.max(score)))\n",
    "    plt.show()"
   ]
  },
  {
   "cell_type": "markdown",
   "metadata": {},
   "source": [
    "### Convert from Keras model format to TFJS format\n"
   ]
  },
  {
   "cell_type": "code",
   "execution_count": null,
   "metadata": {},
   "outputs": [],
   "source": [
    "import tensorflowjs as tfjs\n",
    "\n",
    "tfjs.converters.save_keras_model(model, \"./model_tfjs\")"
   ]
  }
 ],
 "metadata": {
  "kernelspec": {
   "display_name": "Python 3.8.12 ('roggle_training_env')",
   "language": "python",
   "name": "python3"
  },
  "language_info": {
   "codemirror_mode": {
    "name": "ipython",
    "version": 3
   },
   "file_extension": ".py",
   "mimetype": "text/x-python",
   "name": "python",
   "nbconvert_exporter": "python",
   "pygments_lexer": "ipython3",
   "version": "3.8.13"
  },
  "orig_nbformat": 4,
  "vscode": {
   "interpreter": {
    "hash": "1d330678de1b8c054a1cc093231ff0abfd8975930febde02caad71ae0ec643d5"
   }
  }
 },
 "nbformat": 4,
 "nbformat_minor": 2
}
